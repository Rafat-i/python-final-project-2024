{
 "cells": [
  {
   "cell_type": "code",
   "execution_count": 5,
   "id": "a50604ca-e7ba-4fc3-8edb-3b2b396100f1",
   "metadata": {},
   "outputs": [
    {
     "name": "stdout",
     "output_type": "stream",
     "text": [
      "Requirement already satisfied: sentence-transformers in c:\\users\\rafat\\anaconda3\\lib\\site-packages (3.2.1)\n",
      "Requirement already satisfied: transformers<5.0.0,>=4.41.0 in c:\\users\\rafat\\anaconda3\\lib\\site-packages (from sentence-transformers) (4.46.0)\n",
      "Requirement already satisfied: tqdm in c:\\users\\rafat\\anaconda3\\lib\\site-packages (from sentence-transformers) (4.66.4)\n",
      "Requirement already satisfied: torch>=1.11.0 in c:\\users\\rafat\\anaconda3\\lib\\site-packages (from sentence-transformers) (2.5.0)\n",
      "Requirement already satisfied: scikit-learn in c:\\users\\rafat\\anaconda3\\lib\\site-packages (from sentence-transformers) (1.4.2)\n",
      "Requirement already satisfied: scipy in c:\\users\\rafat\\anaconda3\\lib\\site-packages (from sentence-transformers) (1.13.1)\n",
      "Requirement already satisfied: huggingface-hub>=0.20.0 in c:\\users\\rafat\\anaconda3\\lib\\site-packages (from sentence-transformers) (0.26.1)\n",
      "Requirement already satisfied: Pillow in c:\\users\\rafat\\anaconda3\\lib\\site-packages (from sentence-transformers) (10.3.0)\n",
      "Requirement already satisfied: filelock in c:\\users\\rafat\\anaconda3\\lib\\site-packages (from huggingface-hub>=0.20.0->sentence-transformers) (3.13.1)\n",
      "Requirement already satisfied: fsspec>=2023.5.0 in c:\\users\\rafat\\anaconda3\\lib\\site-packages (from huggingface-hub>=0.20.0->sentence-transformers) (2024.3.1)\n",
      "Requirement already satisfied: packaging>=20.9 in c:\\users\\rafat\\anaconda3\\lib\\site-packages (from huggingface-hub>=0.20.0->sentence-transformers) (23.2)\n",
      "Requirement already satisfied: pyyaml>=5.1 in c:\\users\\rafat\\anaconda3\\lib\\site-packages (from huggingface-hub>=0.20.0->sentence-transformers) (6.0.1)\n",
      "Requirement already satisfied: requests in c:\\users\\rafat\\anaconda3\\lib\\site-packages (from huggingface-hub>=0.20.0->sentence-transformers) (2.32.2)\n",
      "Requirement already satisfied: typing-extensions>=3.7.4.3 in c:\\users\\rafat\\anaconda3\\lib\\site-packages (from huggingface-hub>=0.20.0->sentence-transformers) (4.11.0)\n",
      "Requirement already satisfied: networkx in c:\\users\\rafat\\anaconda3\\lib\\site-packages (from torch>=1.11.0->sentence-transformers) (3.2.1)\n",
      "Requirement already satisfied: jinja2 in c:\\users\\rafat\\anaconda3\\lib\\site-packages (from torch>=1.11.0->sentence-transformers) (3.1.4)\n",
      "Requirement already satisfied: setuptools in c:\\users\\rafat\\anaconda3\\lib\\site-packages (from torch>=1.11.0->sentence-transformers) (69.5.1)\n",
      "Requirement already satisfied: sympy==1.13.1 in c:\\users\\rafat\\anaconda3\\lib\\site-packages (from torch>=1.11.0->sentence-transformers) (1.13.1)\n",
      "Requirement already satisfied: mpmath<1.4,>=1.1.0 in c:\\users\\rafat\\anaconda3\\lib\\site-packages (from sympy==1.13.1->torch>=1.11.0->sentence-transformers) (1.3.0)\n",
      "Requirement already satisfied: colorama in c:\\users\\rafat\\anaconda3\\lib\\site-packages (from tqdm->sentence-transformers) (0.4.6)\n",
      "Requirement already satisfied: numpy>=1.17 in c:\\users\\rafat\\anaconda3\\lib\\site-packages (from transformers<5.0.0,>=4.41.0->sentence-transformers) (1.26.4)\n",
      "Requirement already satisfied: regex!=2019.12.17 in c:\\users\\rafat\\anaconda3\\lib\\site-packages (from transformers<5.0.0,>=4.41.0->sentence-transformers) (2023.10.3)\n",
      "Requirement already satisfied: safetensors>=0.4.1 in c:\\users\\rafat\\anaconda3\\lib\\site-packages (from transformers<5.0.0,>=4.41.0->sentence-transformers) (0.4.5)\n",
      "Requirement already satisfied: tokenizers<0.21,>=0.20 in c:\\users\\rafat\\anaconda3\\lib\\site-packages (from transformers<5.0.0,>=4.41.0->sentence-transformers) (0.20.1)\n",
      "Requirement already satisfied: joblib>=1.2.0 in c:\\users\\rafat\\anaconda3\\lib\\site-packages (from scikit-learn->sentence-transformers) (1.4.2)\n",
      "Requirement already satisfied: threadpoolctl>=2.0.0 in c:\\users\\rafat\\anaconda3\\lib\\site-packages (from scikit-learn->sentence-transformers) (2.2.0)\n",
      "Requirement already satisfied: MarkupSafe>=2.0 in c:\\users\\rafat\\anaconda3\\lib\\site-packages (from jinja2->torch>=1.11.0->sentence-transformers) (2.1.3)\n",
      "Requirement already satisfied: charset-normalizer<4,>=2 in c:\\users\\rafat\\anaconda3\\lib\\site-packages (from requests->huggingface-hub>=0.20.0->sentence-transformers) (2.0.4)\n",
      "Requirement already satisfied: idna<4,>=2.5 in c:\\users\\rafat\\anaconda3\\lib\\site-packages (from requests->huggingface-hub>=0.20.0->sentence-transformers) (3.7)\n",
      "Requirement already satisfied: urllib3<3,>=1.21.1 in c:\\users\\rafat\\anaconda3\\lib\\site-packages (from requests->huggingface-hub>=0.20.0->sentence-transformers) (2.2.2)\n",
      "Requirement already satisfied: certifi>=2017.4.17 in c:\\users\\rafat\\anaconda3\\lib\\site-packages (from requests->huggingface-hub>=0.20.0->sentence-transformers) (2024.7.4)\n"
     ]
    }
   ],
   "source": [
    "!pip install sentence-transformers\n"
   ]
  },
  {
   "cell_type": "code",
   "execution_count": 6,
   "id": "46e22231-a3a0-4d20-a457-b8314a7466fe",
   "metadata": {},
   "outputs": [
    {
     "name": "stderr",
     "output_type": "stream",
     "text": [
      "C:\\Users\\rafat\\anaconda3\\Lib\\site-packages\\sentence_transformers\\cross_encoder\\CrossEncoder.py:13: TqdmExperimentalWarning: Using `tqdm.autonotebook.tqdm` in notebook mode. Use `tqdm.tqdm` instead to force console mode (e.g. in jupyter console)\n",
      "  from tqdm.autonotebook import tqdm, trange\n"
     ]
    },
    {
     "name": "stdout",
     "output_type": "stream",
     "text": [
      "✓ Imports successful!\n"
     ]
    }
   ],
   "source": [
    "# Import required libraries\n",
    "from sentence_transformers import SentenceTransformer\n",
    "import numpy as np\n",
    "\n",
    "# Simple test to ensure everything works\n",
    "print(\"✓ Imports successful!\")"
   ]
  },
  {
   "cell_type": "code",
   "execution_count": 7,
   "id": "39efb1fc-504a-40e1-8cfb-c42a879a9244",
   "metadata": {},
   "outputs": [
    {
     "name": "stdout",
     "output_type": "stream",
     "text": [
      "Created 8 notes\n"
     ]
    }
   ],
   "source": [
    "# Initialize our collection of notes\n",
    "notes = [\n",
    "    \"Python lists are mutable sequences used to store collections of items. They can contain mixed types and are defined using square brackets.\",\n",
    "    \"Lists in Python can be modified after creation. Common operations include append(), extend(), and insert().\",\n",
    "    \"Data structures are fundamental building blocks in programming. They help organize and store data efficiently.\",\n",
    "    \"Arrays in NumPy provide efficient storage and operations for numerical data. They are widely used in scientific computing.\",\n",
    "    \"Object-oriented programming in Python uses classes and objects. Classes define the structure and behavior of objects.\",\n",
    "    \"The pandas library is built on top of NumPy and provides powerful data manipulation tools through DataFrames.\",\n",
    "    \"Version control with Git helps track changes in code. Common commands include commit, push, and pull.\",\n",
    "    \"Python functions are defined using the def keyword. They can accept parameters and return values.\",\n",
    "]\n",
    "\n",
    "# Print the number of notes we have\n",
    "print(f\"Created {len(notes)} notes\")"
   ]
  },
  {
   "cell_type": "code",
   "execution_count": 8,
   "id": "88b89b0b-c537-41f2-b0b6-063058d97325",
   "metadata": {},
   "outputs": [
    {
     "name": "stdout",
     "output_type": "stream",
     "text": [
      "\n",
      "Note 1 (Length: 138 characters):\n",
      "==================================================\n",
      "Python lists are mutable sequences used to store collections of items. They can contain mixed types and are defined using square brackets.\n",
      "\n",
      "Note 2 (Length: 107 characters):\n",
      "==================================================\n",
      "Lists in Python can be modified after creation. Common operations include append(), extend(), and insert().\n",
      "\n",
      "Note 3 (Length: 110 characters):\n",
      "==================================================\n",
      "Data structures are fundamental building blocks in programming. They help organize and store data efficiently.\n",
      "\n",
      "Note 4 (Length: 122 characters):\n",
      "==================================================\n",
      "Arrays in NumPy provide efficient storage and operations for numerical data. They are widely used in scientific computing.\n",
      "\n",
      "Note 5 (Length: 117 characters):\n",
      "==================================================\n",
      "Object-oriented programming in Python uses classes and objects. Classes define the structure and behavior of objects.\n",
      "\n",
      "Note 6 (Length: 109 characters):\n",
      "==================================================\n",
      "The pandas library is built on top of NumPy and provides powerful data manipulation tools through DataFrames.\n",
      "\n",
      "Note 7 (Length: 101 characters):\n",
      "==================================================\n",
      "Version control with Git helps track changes in code. Common commands include commit, push, and pull.\n",
      "\n",
      "Note 8 (Length: 97 characters):\n",
      "==================================================\n",
      "Python functions are defined using the def keyword. They can accept parameters and return values.\n"
     ]
    }
   ],
   "source": [
    "# Print each note with its length\n",
    "for i, note in enumerate(notes):\n",
    "    print(f\"\\nNote {i+1} (Length: {len(note)} characters):\")\n",
    "    print(f\"{'='*50}\")\n",
    "    print(note)"
   ]
  },
  {
   "cell_type": "code",
   "execution_count": 9,
   "id": "312a6b1f-cabb-4630-9e9a-adf588ca4a88",
   "metadata": {},
   "outputs": [
    {
     "name": "stdout",
     "output_type": "stream",
     "text": [
      "Average words per note: 16.8\n",
      "Shortest note: 15 words\n",
      "Longest note: 22 words\n"
     ]
    }
   ],
   "source": [
    "# Quick analysis of our notes\n",
    "note_lengths = [len(note.split()) for note in notes]\n",
    "\n",
    "print(f\"Average words per note: {sum(note_lengths)/len(note_lengths):.1f}\")\n",
    "print(f\"Shortest note: {min(note_lengths)} words\")\n",
    "print(f\"Longest note: {max(note_lengths)} words\")"
   ]
  },
  {
   "cell_type": "code",
   "execution_count": 10,
   "id": "e194fc9a-1d21-4121-9f13-d07324199757",
   "metadata": {},
   "outputs": [
    {
     "data": {
      "application/vnd.jupyter.widget-view+json": {
       "model_id": "bbcfc8993be0403d91e629829e34c611",
       "version_major": 2,
       "version_minor": 0
      },
      "text/plain": [
       "modules.json:   0%|          | 0.00/349 [00:00<?, ?B/s]"
      ]
     },
     "metadata": {},
     "output_type": "display_data"
    },
    {
     "name": "stderr",
     "output_type": "stream",
     "text": [
      "C:\\Users\\rafat\\anaconda3\\Lib\\site-packages\\huggingface_hub\\file_download.py:139: UserWarning: `huggingface_hub` cache-system uses symlinks by default to efficiently store duplicated files but your machine does not support them in C:\\Users\\rafat\\.cache\\huggingface\\hub\\models--sentence-transformers--all-MiniLM-L6-v2. Caching files will still work but in a degraded version that might require more space on your disk. This warning can be disabled by setting the `HF_HUB_DISABLE_SYMLINKS_WARNING` environment variable. For more details, see https://huggingface.co/docs/huggingface_hub/how-to-cache#limitations.\n",
      "To support symlinks on Windows, you either need to activate Developer Mode or to run Python as an administrator. In order to activate developer mode, see this article: https://docs.microsoft.com/en-us/windows/apps/get-started/enable-your-device-for-development\n",
      "  warnings.warn(message)\n"
     ]
    },
    {
     "data": {
      "application/vnd.jupyter.widget-view+json": {
       "model_id": "574ff717370d4d1a83d12dc0f15792a4",
       "version_major": 2,
       "version_minor": 0
      },
      "text/plain": [
       "config_sentence_transformers.json:   0%|          | 0.00/116 [00:00<?, ?B/s]"
      ]
     },
     "metadata": {},
     "output_type": "display_data"
    },
    {
     "data": {
      "application/vnd.jupyter.widget-view+json": {
       "model_id": "90a441c63e8541318586190dd02807cd",
       "version_major": 2,
       "version_minor": 0
      },
      "text/plain": [
       "README.md:   0%|          | 0.00/10.7k [00:00<?, ?B/s]"
      ]
     },
     "metadata": {},
     "output_type": "display_data"
    },
    {
     "data": {
      "application/vnd.jupyter.widget-view+json": {
       "model_id": "374ff18fbccd47318d823f44b7bb703d",
       "version_major": 2,
       "version_minor": 0
      },
      "text/plain": [
       "sentence_bert_config.json:   0%|          | 0.00/53.0 [00:00<?, ?B/s]"
      ]
     },
     "metadata": {},
     "output_type": "display_data"
    },
    {
     "data": {
      "application/vnd.jupyter.widget-view+json": {
       "model_id": "25f581320bde4b96b8b3e7bfa922303d",
       "version_major": 2,
       "version_minor": 0
      },
      "text/plain": [
       "config.json:   0%|          | 0.00/612 [00:00<?, ?B/s]"
      ]
     },
     "metadata": {},
     "output_type": "display_data"
    },
    {
     "data": {
      "application/vnd.jupyter.widget-view+json": {
       "model_id": "a04f856848d74a0b98e2b70b2ab11291",
       "version_major": 2,
       "version_minor": 0
      },
      "text/plain": [
       "model.safetensors:   0%|          | 0.00/90.9M [00:00<?, ?B/s]"
      ]
     },
     "metadata": {},
     "output_type": "display_data"
    },
    {
     "data": {
      "application/vnd.jupyter.widget-view+json": {
       "model_id": "abac70358ff743f58471f2179a08bd3b",
       "version_major": 2,
       "version_minor": 0
      },
      "text/plain": [
       "tokenizer_config.json:   0%|          | 0.00/350 [00:00<?, ?B/s]"
      ]
     },
     "metadata": {},
     "output_type": "display_data"
    },
    {
     "data": {
      "application/vnd.jupyter.widget-view+json": {
       "model_id": "b643e1ca806549f98017ff3d3bca1421",
       "version_major": 2,
       "version_minor": 0
      },
      "text/plain": [
       "vocab.txt:   0%|          | 0.00/232k [00:00<?, ?B/s]"
      ]
     },
     "metadata": {},
     "output_type": "display_data"
    },
    {
     "data": {
      "application/vnd.jupyter.widget-view+json": {
       "model_id": "16a56b726f8d4230aa4e18bef59dd67a",
       "version_major": 2,
       "version_minor": 0
      },
      "text/plain": [
       "tokenizer.json:   0%|          | 0.00/466k [00:00<?, ?B/s]"
      ]
     },
     "metadata": {},
     "output_type": "display_data"
    },
    {
     "data": {
      "application/vnd.jupyter.widget-view+json": {
       "model_id": "d62ba0f9c92d47c38550076589f6268a",
       "version_major": 2,
       "version_minor": 0
      },
      "text/plain": [
       "special_tokens_map.json:   0%|          | 0.00/112 [00:00<?, ?B/s]"
      ]
     },
     "metadata": {},
     "output_type": "display_data"
    },
    {
     "data": {
      "application/vnd.jupyter.widget-view+json": {
       "model_id": "7b3586d97091444aba17f22e3a586467",
       "version_major": 2,
       "version_minor": 0
      },
      "text/plain": [
       "1_Pooling/config.json:   0%|          | 0.00/190 [00:00<?, ?B/s]"
      ]
     },
     "metadata": {},
     "output_type": "display_data"
    },
    {
     "name": "stdout",
     "output_type": "stream",
     "text": [
      "Model loaded successfully!\n"
     ]
    }
   ],
   "source": [
    "from sentence_transformers import SentenceTransformer\n",
    "\n",
    "# Load the model - this may take a few seconds\n",
    "model = SentenceTransformer('all-MiniLM-L6-v2')\n",
    "\n",
    "print(\"Model loaded successfully!\")"
   ]
  },
  {
   "cell_type": "code",
   "execution_count": 11,
   "id": "5bd53910-42ed-4060-a287-833cbcf811fe",
   "metadata": {},
   "outputs": [
    {
     "name": "stdout",
     "output_type": "stream",
     "text": [
      "Embedding shape: (384,)\n",
      "First 5 values: [ 0.03313289 -0.02813718  0.10922705  0.02421214  0.04646198]\n"
     ]
    }
   ],
   "source": [
    "# Create an embedding for a simple sentence\n",
    "test_sentence = \"This is a test sentence to understand embeddings.\"\n",
    "embedding = model.encode(test_sentence)\n",
    "\n",
    "# Look at the embedding's properties\n",
    "print(f\"Embedding shape: {embedding.shape}\")\n",
    "print(f\"First 5 values: {embedding[:5]}\")"
   ]
  },
  {
   "cell_type": "code",
   "execution_count": 12,
   "id": "f597c722-c1e0-48c1-9ff6-26718f3053d9",
   "metadata": {},
   "outputs": [
    {
     "name": "stdout",
     "output_type": "stream",
     "text": [
      "Number of embeddings: 3\n",
      "Shape of each embedding: (384,)\n"
     ]
    }
   ],
   "source": [
    "# Create embeddings for a few test sentences\n",
    "test_sentences = [\n",
    "    \"Python is a programming language\",\n",
    "    \"Programming languages are used to write software\",\n",
    "    \"Pythons are large snakes\"\n",
    "]\n",
    "\n",
    "# Generate embeddings for all sentences at once\n",
    "embeddings = model.encode(test_sentences)\n",
    "\n",
    "print(f\"Number of embeddings: {len(embeddings)}\")\n",
    "print(f\"Shape of each embedding: {embeddings[0].shape}\")"
   ]
  },
  {
   "cell_type": "code",
   "execution_count": 13,
   "id": "a7687b9d-10cb-43d1-9e58-a5328dafe911",
   "metadata": {},
   "outputs": [
    {
     "name": "stdout",
     "output_type": "stream",
     "text": [
      "\n",
      "Similarity between:\n",
      "'Python is a programming language' and\n",
      "'Programming languages are used to write software':\n",
      "0.657\n",
      "\n",
      "Similarity between:\n",
      "'Python is a programming language' and\n",
      "'Pythons are large snakes':\n",
      "0.497\n",
      "\n",
      "Similarity between:\n",
      "'Programming languages are used to write software' and\n",
      "'Pythons are large snakes':\n",
      "0.119\n"
     ]
    }
   ],
   "source": [
    "import numpy as np\n",
    "\n",
    "# Calculate similarities between sentences\n",
    "def calculate_similarity(emb1, emb2):\n",
    "    return np.dot(emb1, emb2) / (np.linalg.norm(emb1) * np.linalg.norm(emb2))\n",
    "\n",
    "# Get similarities between all pairs\n",
    "for i in range(len(test_sentences)):\n",
    "    for j in range(i + 1, len(test_sentences)):\n",
    "        similarity = calculate_similarity(embeddings[i], embeddings[j])\n",
    "        print(f\"\\nSimilarity between:\\n'{test_sentences[i]}' and\\n'{test_sentences[j]}':\\n{similarity:.3f}\")"
   ]
  },
  {
   "cell_type": "code",
   "execution_count": 14,
   "id": "1726f341-1e59-4d7f-a1a2-90389d62a948",
   "metadata": {},
   "outputs": [
    {
     "name": "stdout",
     "output_type": "stream",
     "text": [
      "Created embeddings for 8 notes\n",
      "Each embedding has shape: (384,)\n"
     ]
    }
   ],
   "source": [
    "# Convert all notes to embeddings\n",
    "note_embeddings = model.encode(notes)\n",
    "\n",
    "print(f\"Created embeddings for {len(notes)} notes\")\n",
    "print(f\"Each embedding has shape: {note_embeddings[0].shape}\")"
   ]
  },
  {
   "cell_type": "code",
   "execution_count": 15,
   "id": "d7ecdb0f-f31d-42cd-807d-597a73ce27c9",
   "metadata": {},
   "outputs": [],
   "source": [
    "def search_notes(query, top_k=3):\n",
    "    # Convert search query to embedding\n",
    "    query_embedding = model.encode(query)\n",
    "    \n",
    "    # Calculate similarities with all notes\n",
    "    similarities = np.dot(note_embeddings, query_embedding) / (\n",
    "        np.linalg.norm(note_embeddings, axis=1) * np.linalg.norm(query_embedding)\n",
    "    )\n",
    "    \n",
    "    # Get top k matches\n",
    "    top_idx = np.argsort(similarities)[::-1][:top_k]\n",
    "    \n",
    "    # A list of dictionaries\n",
    "    results = []\n",
    "    for idx in top_idx:\n",
    "        results.append({\n",
    "            'note': notes[idx],\n",
    "            'similarity': similarities[idx]\n",
    "        })\n",
    "        \n",
    "    # Return matching notes with thier similarity scores\n",
    "    return results"
   ]
  },
  {
   "cell_type": "code",
   "execution_count": 16,
   "id": "024b8066-0c9f-420f-8909-9a21a89e3fc7",
   "metadata": {},
   "outputs": [
    {
     "name": "stdout",
     "output_type": "stream",
     "text": [
      "\n",
      "Search Query: 'How do Python lists work?'\n",
      "==================================================\n",
      "\n",
      "1. Match (79.09% similar):\n",
      "Python lists are mutable sequences used to store collections of items. They can contain mixed types and are defined using square brackets.\n",
      "\n",
      "2. Match (72.10% similar):\n",
      "Lists in Python can be modified after creation. Common operations include append(), extend(), and insert().\n",
      "\n",
      "3. Match (52.82% similar):\n",
      "Object-oriented programming in Python uses classes and objects. Classes define the structure and behavior of objects.\n",
      "\n",
      "Search Query: 'Tell me about data structures'\n",
      "==================================================\n",
      "\n",
      "1. Match (84.95% similar):\n",
      "Data structures are fundamental building blocks in programming. They help organize and store data efficiently.\n",
      "\n",
      "2. Match (36.30% similar):\n",
      "Object-oriented programming in Python uses classes and objects. Classes define the structure and behavior of objects.\n",
      "\n",
      "3. Match (34.01% similar):\n",
      "Arrays in NumPy provide efficient storage and operations for numerical data. They are widely used in scientific computing.\n",
      "\n",
      "Search Query: 'What is object oriented programming?'\n",
      "==================================================\n",
      "\n",
      "1. Match (68.08% similar):\n",
      "Object-oriented programming in Python uses classes and objects. Classes define the structure and behavior of objects.\n",
      "\n",
      "2. Match (42.41% similar):\n",
      "Data structures are fundamental building blocks in programming. They help organize and store data efficiently.\n",
      "\n",
      "3. Match (25.97% similar):\n",
      "Version control with Git helps track changes in code. Common commands include commit, push, and pull.\n"
     ]
    }
   ],
   "source": [
    "# Function to display search results nicely\n",
    "def display_results(query, results):\n",
    "    print(f\"\\nSearch Query: '{query}'\")\n",
    "    print(\"=\" * 50)\n",
    "    for i, r in enumerate(results, 1):\n",
    "        print(f\"\\n{i}. Match ({r['similarity']:.2%} similar):\")\n",
    "        print(r['note'])\n",
    "\n",
    "# Try some example searches\n",
    "queries = [\n",
    "    \"How do Python lists work?\",\n",
    "    \"Tell me about data structures\",\n",
    "    \"What is object oriented programming?\"\n",
    "]\n",
    "\n",
    "for query in queries:\n",
    "    results = search_notes(query)\n",
    "    display_results(query, results)"
   ]
  },
  {
   "cell_type": "code",
   "execution_count": 17,
   "id": "4de1041b-bddf-47d6-b026-9f5cc929e635",
   "metadata": {},
   "outputs": [
    {
     "name": "stdout",
     "output_type": "stream",
     "text": [
      "\n",
      "Search Query: 'What's the difference between lists and arrays?'\n",
      "==================================================\n",
      "\n",
      "1. Match (59.03% similar):\n",
      "Python lists are mutable sequences used to store collections of items. They can contain mixed types and are defined using square brackets.\n",
      "\n",
      "2. Match (48.82% similar):\n",
      "Arrays in NumPy provide efficient storage and operations for numerical data. They are widely used in scientific computing.\n",
      "\n",
      "3. Match (47.15% similar):\n",
      "Lists in Python can be modified after creation. Common operations include append(), extend(), and insert().\n"
     ]
    }
   ],
   "source": [
    "# Test with your own query\n",
    "my_query = \"What's the difference between lists and arrays?\"\n",
    "results = search_notes(my_query)\n",
    "display_results(my_query, results)"
   ]
  },
  {
   "cell_type": "code",
   "execution_count": null,
   "id": "1f1c334f-1eed-4576-a985-2a21971e9a26",
   "metadata": {},
   "outputs": [],
   "source": []
  }
 ],
 "metadata": {
  "kernelspec": {
   "display_name": "Python 3 (ipykernel)",
   "language": "python",
   "name": "python3"
  },
  "language_info": {
   "codemirror_mode": {
    "name": "ipython",
    "version": 3
   },
   "file_extension": ".py",
   "mimetype": "text/x-python",
   "name": "python",
   "nbconvert_exporter": "python",
   "pygments_lexer": "ipython3",
   "version": "3.12.4"
  }
 },
 "nbformat": 4,
 "nbformat_minor": 5
}
